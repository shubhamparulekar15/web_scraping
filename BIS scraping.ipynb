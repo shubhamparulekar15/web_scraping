{
 "cells": [
  {
   "cell_type": "code",
   "execution_count": 12,
   "metadata": {},
   "outputs": [],
   "source": [
    "from selenium import webdriver\n",
    "import time\n",
    "driver = webdriver.Chrome(executable_path=r\"C:\\Users\\PARULEKAR\\Desktop\\web_scraping\\chromedriver_win32\\chromedriver.exe\")\n",
    "driver.get('https://www.bis.org/bispapers/index.htm?m=5%7C27&bispapers=ZnJvbT0mdGlsbD0mcGFnZT0xJnBhZ2luZ19sZW5ndGg9MjUmc29ydF9saXN0PWRhdGVfZGVzYyZ0aGVtZT1iaXNwYXBlcnMmbWw9ZmFsc2UmbWx1cmw9JmVtcHR5bGlzdHRleHQ9')\n",
    "\n",
    "elems = driver.find_elements_by_class_name(\"dark\")\n",
    "e=[]\n",
    "for elem in elems:\n",
    "        e.append(elem.get_attribute(\"href\"))\n",
    "for i in e:\n",
    "    driver.get(i)\n",
    "    alll=driver.find_elements_by_class_name('pdftitle_link')\n",
    "    for al in alll:\n",
    "        print(al.get_attribute(\"href\"))\n",
    "        print('\\n')\n",
    "#     page_no = driver.find_elements_by_xpath('//*[@id=\"bispapers_list\"]/div/div[2]/nav/div/div[2]/div/div[3]/div/a')[x]\n",
    "#     page_no.click()\n",
    "            \n"
   ]
  },
  {
   "cell_type": "code",
   "execution_count": 11,
   "metadata": {},
   "outputs": [
    {
     "ename": "AttributeError",
     "evalue": "'list' object has no attribute 'text'",
     "output_type": "error",
     "traceback": [
      "\u001b[1;31m---------------------------------------------------------------------------\u001b[0m",
      "\u001b[1;31mAttributeError\u001b[0m                            Traceback (most recent call last)",
      "\u001b[1;32m<ipython-input-11-e30d87dca87c>\u001b[0m in \u001b[0;36m<module>\u001b[1;34m\u001b[0m\n\u001b[1;32m----> 1\u001b[1;33m \u001b[0mpage_no\u001b[0m \u001b[1;33m=\u001b[0m \u001b[0mdriver\u001b[0m\u001b[1;33m.\u001b[0m\u001b[0mfind_elements_by_xpath\u001b[0m\u001b[1;33m(\u001b[0m\u001b[1;34m'//*[@id=\"bispapers_list\"]/div/div[2]/nav/div/div[2]/div/div[2]/span'\u001b[0m\u001b[1;33m)\u001b[0m\u001b[1;33m.\u001b[0m\u001b[0mtext\u001b[0m\u001b[1;33m\u001b[0m\u001b[1;33m\u001b[0m\u001b[0m\n\u001b[0m\u001b[0;32m      2\u001b[0m \u001b[0mprint\u001b[0m\u001b[1;33m(\u001b[0m\u001b[0mpage_no\u001b[0m\u001b[1;33m)\u001b[0m\u001b[1;33m\u001b[0m\u001b[1;33m\u001b[0m\u001b[0m\n",
      "\u001b[1;31mAttributeError\u001b[0m: 'list' object has no attribute 'text'"
     ]
    }
   ],
   "source": [
    "page_no = driver.find_elements_by_xpath('//*[@id=\"bispapers_list\"]/div/div[2]/nav/div/div[2]/div/div[2]/span').text\n",
    "print(page_no)"
   ]
  },
  {
   "cell_type": "code",
   "execution_count": 15,
   "metadata": {},
   "outputs": [
    {
     "ename": "WebDriverException",
     "evalue": "Message: chrome not reachable\n  (Session info: chrome=81.0.4044.122)\n",
     "output_type": "error",
     "traceback": [
      "\u001b[1;31m---------------------------------------------------------------------------\u001b[0m",
      "\u001b[1;31mWebDriverException\u001b[0m                        Traceback (most recent call last)",
      "\u001b[1;32m<ipython-input-15-5af15acacd7d>\u001b[0m in \u001b[0;36m<module>\u001b[1;34m\u001b[0m\n\u001b[0;32m      1\u001b[0m \u001b[1;32mfor\u001b[0m \u001b[0mx\u001b[0m \u001b[1;32min\u001b[0m \u001b[0mrange\u001b[0m\u001b[1;33m(\u001b[0m\u001b[1;36m5\u001b[0m\u001b[1;33m)\u001b[0m\u001b[1;33m:\u001b[0m\u001b[1;33m\u001b[0m\u001b[1;33m\u001b[0m\u001b[0m\n\u001b[1;32m----> 2\u001b[1;33m     \u001b[0mpage_no\u001b[0m \u001b[1;33m=\u001b[0m \u001b[0mdriver\u001b[0m\u001b[1;33m.\u001b[0m\u001b[0mfind_elements_by_xpath\u001b[0m\u001b[1;33m(\u001b[0m\u001b[1;34m'//*[@id=\"bispapers_list\"]/div/div[2]/nav/div/div[2]/div/div[3]/div/a'\u001b[0m\u001b[1;33m)\u001b[0m\u001b[1;33m.\u001b[0m\u001b[0mclick\u001b[0m\u001b[1;33m(\u001b[0m\u001b[1;33m)\u001b[0m\u001b[1;33m\u001b[0m\u001b[1;33m\u001b[0m\u001b[0m\n\u001b[0m\u001b[0;32m      3\u001b[0m     \u001b[0melems\u001b[0m \u001b[1;33m=\u001b[0m \u001b[0mdriver\u001b[0m\u001b[1;33m.\u001b[0m\u001b[0mfind_elements_by_class_name\u001b[0m\u001b[1;33m(\u001b[0m\u001b[1;34m\"dark\"\u001b[0m\u001b[1;33m)\u001b[0m\u001b[1;33m\u001b[0m\u001b[1;33m\u001b[0m\u001b[0m\n\u001b[0;32m      4\u001b[0m     \u001b[0me\u001b[0m\u001b[1;33m=\u001b[0m\u001b[1;33m[\u001b[0m\u001b[1;33m]\u001b[0m\u001b[1;33m\u001b[0m\u001b[1;33m\u001b[0m\u001b[0m\n\u001b[0;32m      5\u001b[0m     \u001b[1;32mfor\u001b[0m \u001b[0melem\u001b[0m \u001b[1;32min\u001b[0m \u001b[0melems\u001b[0m\u001b[1;33m:\u001b[0m\u001b[1;33m\u001b[0m\u001b[1;33m\u001b[0m\u001b[0m\n",
      "\u001b[1;32m~\\Anaconda3\\lib\\site-packages\\selenium\\webdriver\\remote\\webdriver.py\u001b[0m in \u001b[0;36mfind_elements_by_xpath\u001b[1;34m(self, xpath)\u001b[0m\n\u001b[0;32m    408\u001b[0m             \u001b[0melements\u001b[0m \u001b[1;33m=\u001b[0m \u001b[0mdriver\u001b[0m\u001b[1;33m.\u001b[0m\u001b[0mfind_elements_by_xpath\u001b[0m\u001b[1;33m(\u001b[0m\u001b[1;34m\"//div[contains(@class, 'foo')]\"\u001b[0m\u001b[1;33m)\u001b[0m\u001b[1;33m\u001b[0m\u001b[1;33m\u001b[0m\u001b[0m\n\u001b[0;32m    409\u001b[0m         \"\"\"\n\u001b[1;32m--> 410\u001b[1;33m         \u001b[1;32mreturn\u001b[0m \u001b[0mself\u001b[0m\u001b[1;33m.\u001b[0m\u001b[0mfind_elements\u001b[0m\u001b[1;33m(\u001b[0m\u001b[0mby\u001b[0m\u001b[1;33m=\u001b[0m\u001b[0mBy\u001b[0m\u001b[1;33m.\u001b[0m\u001b[0mXPATH\u001b[0m\u001b[1;33m,\u001b[0m \u001b[0mvalue\u001b[0m\u001b[1;33m=\u001b[0m\u001b[0mxpath\u001b[0m\u001b[1;33m)\u001b[0m\u001b[1;33m\u001b[0m\u001b[1;33m\u001b[0m\u001b[0m\n\u001b[0m\u001b[0;32m    411\u001b[0m \u001b[1;33m\u001b[0m\u001b[0m\n\u001b[0;32m    412\u001b[0m     \u001b[1;32mdef\u001b[0m \u001b[0mfind_element_by_link_text\u001b[0m\u001b[1;33m(\u001b[0m\u001b[0mself\u001b[0m\u001b[1;33m,\u001b[0m \u001b[0mlink_text\u001b[0m\u001b[1;33m)\u001b[0m\u001b[1;33m:\u001b[0m\u001b[1;33m\u001b[0m\u001b[1;33m\u001b[0m\u001b[0m\n",
      "\u001b[1;32m~\\Anaconda3\\lib\\site-packages\\selenium\\webdriver\\remote\\webdriver.py\u001b[0m in \u001b[0;36mfind_elements\u001b[1;34m(self, by, value)\u001b[0m\n\u001b[0;32m   1005\u001b[0m         return self.execute(Command.FIND_ELEMENTS, {\n\u001b[0;32m   1006\u001b[0m             \u001b[1;34m'using'\u001b[0m\u001b[1;33m:\u001b[0m \u001b[0mby\u001b[0m\u001b[1;33m,\u001b[0m\u001b[1;33m\u001b[0m\u001b[1;33m\u001b[0m\u001b[0m\n\u001b[1;32m-> 1007\u001b[1;33m             'value': value})['value'] or []\n\u001b[0m\u001b[0;32m   1008\u001b[0m \u001b[1;33m\u001b[0m\u001b[0m\n\u001b[0;32m   1009\u001b[0m     \u001b[1;33m@\u001b[0m\u001b[0mproperty\u001b[0m\u001b[1;33m\u001b[0m\u001b[1;33m\u001b[0m\u001b[0m\n",
      "\u001b[1;32m~\\Anaconda3\\lib\\site-packages\\selenium\\webdriver\\remote\\webdriver.py\u001b[0m in \u001b[0;36mexecute\u001b[1;34m(self, driver_command, params)\u001b[0m\n\u001b[0;32m    319\u001b[0m         \u001b[0mresponse\u001b[0m \u001b[1;33m=\u001b[0m \u001b[0mself\u001b[0m\u001b[1;33m.\u001b[0m\u001b[0mcommand_executor\u001b[0m\u001b[1;33m.\u001b[0m\u001b[0mexecute\u001b[0m\u001b[1;33m(\u001b[0m\u001b[0mdriver_command\u001b[0m\u001b[1;33m,\u001b[0m \u001b[0mparams\u001b[0m\u001b[1;33m)\u001b[0m\u001b[1;33m\u001b[0m\u001b[1;33m\u001b[0m\u001b[0m\n\u001b[0;32m    320\u001b[0m         \u001b[1;32mif\u001b[0m \u001b[0mresponse\u001b[0m\u001b[1;33m:\u001b[0m\u001b[1;33m\u001b[0m\u001b[1;33m\u001b[0m\u001b[0m\n\u001b[1;32m--> 321\u001b[1;33m             \u001b[0mself\u001b[0m\u001b[1;33m.\u001b[0m\u001b[0merror_handler\u001b[0m\u001b[1;33m.\u001b[0m\u001b[0mcheck_response\u001b[0m\u001b[1;33m(\u001b[0m\u001b[0mresponse\u001b[0m\u001b[1;33m)\u001b[0m\u001b[1;33m\u001b[0m\u001b[1;33m\u001b[0m\u001b[0m\n\u001b[0m\u001b[0;32m    322\u001b[0m             response['value'] = self._unwrap_value(\n\u001b[0;32m    323\u001b[0m                 response.get('value', None))\n",
      "\u001b[1;32m~\\Anaconda3\\lib\\site-packages\\selenium\\webdriver\\remote\\errorhandler.py\u001b[0m in \u001b[0;36mcheck_response\u001b[1;34m(self, response)\u001b[0m\n\u001b[0;32m    240\u001b[0m                 \u001b[0malert_text\u001b[0m \u001b[1;33m=\u001b[0m \u001b[0mvalue\u001b[0m\u001b[1;33m[\u001b[0m\u001b[1;34m'alert'\u001b[0m\u001b[1;33m]\u001b[0m\u001b[1;33m.\u001b[0m\u001b[0mget\u001b[0m\u001b[1;33m(\u001b[0m\u001b[1;34m'text'\u001b[0m\u001b[1;33m)\u001b[0m\u001b[1;33m\u001b[0m\u001b[1;33m\u001b[0m\u001b[0m\n\u001b[0;32m    241\u001b[0m             \u001b[1;32mraise\u001b[0m \u001b[0mexception_class\u001b[0m\u001b[1;33m(\u001b[0m\u001b[0mmessage\u001b[0m\u001b[1;33m,\u001b[0m \u001b[0mscreen\u001b[0m\u001b[1;33m,\u001b[0m \u001b[0mstacktrace\u001b[0m\u001b[1;33m,\u001b[0m \u001b[0malert_text\u001b[0m\u001b[1;33m)\u001b[0m\u001b[1;33m\u001b[0m\u001b[1;33m\u001b[0m\u001b[0m\n\u001b[1;32m--> 242\u001b[1;33m         \u001b[1;32mraise\u001b[0m \u001b[0mexception_class\u001b[0m\u001b[1;33m(\u001b[0m\u001b[0mmessage\u001b[0m\u001b[1;33m,\u001b[0m \u001b[0mscreen\u001b[0m\u001b[1;33m,\u001b[0m \u001b[0mstacktrace\u001b[0m\u001b[1;33m)\u001b[0m\u001b[1;33m\u001b[0m\u001b[1;33m\u001b[0m\u001b[0m\n\u001b[0m\u001b[0;32m    243\u001b[0m \u001b[1;33m\u001b[0m\u001b[0m\n\u001b[0;32m    244\u001b[0m     \u001b[1;32mdef\u001b[0m \u001b[0m_value_or_default\u001b[0m\u001b[1;33m(\u001b[0m\u001b[0mself\u001b[0m\u001b[1;33m,\u001b[0m \u001b[0mobj\u001b[0m\u001b[1;33m,\u001b[0m \u001b[0mkey\u001b[0m\u001b[1;33m,\u001b[0m \u001b[0mdefault\u001b[0m\u001b[1;33m)\u001b[0m\u001b[1;33m:\u001b[0m\u001b[1;33m\u001b[0m\u001b[1;33m\u001b[0m\u001b[0m\n",
      "\u001b[1;31mWebDriverException\u001b[0m: Message: chrome not reachable\n  (Session info: chrome=81.0.4044.122)\n"
     ]
    }
   ],
   "source": [
    "# for x in range(5):\n",
    "#     page_no = driver.find_elements_by_xpath('//*[@id=\"bispapers_list\"]/div/div[2]/nav/div/div[2]/div/div[3]/div/a').click()\n",
    "#     elems = driver.find_elements_by_class_name(\"dark\")\n",
    "#     e=[]\n",
    "#     for elem in elems:\n",
    "#         e.append(elem.get_attribute(\"href\"))\n",
    "#     for i in e:\n",
    "#         driver.get(i)\n",
    "#         alll=driver.find_elements_by_class_name('pdftitle_link')\n",
    "#         for al in alll:\n",
    "#             print(al.get_attribute(\"href\"))\n",
    "#             print('\\n')"
   ]
  },
  {
   "cell_type": "code",
   "execution_count": 3,
   "metadata": {},
   "outputs": [
    {
     "name": "stdout",
     "output_type": "stream",
     "text": [
      "['https://www.bis.org/publ/bppdf/bispap111.htm', 'https://www.bis.org/publ/bppdf/bispap110.htm', 'https://www.bis.org/publ/bppdf/bispap109.htm', 'https://www.bis.org/publ/bppdf/bispap108.htm', 'https://www.bis.org/publ/bppdf/bispap107.htm', 'https://www.bis.org/publ/bppdf/bispap106.htm', 'https://www.bis.org/publ/bppdf/bispap105.htm', 'https://www.bis.org/publ/bppdf/bispap104.htm', 'https://www.bis.org/publ/bppdf/bispap103.htm', 'https://www.bis.org/publ/bppdf/bispap102.htm', 'https://www.bis.org/publ/bppdf/bispap101.htm', 'https://www.bis.org/publ/bppdf/bispap100.htm', 'https://www.bis.org/publ/bppdf/bispap99.htm', 'https://www.bis.org/publ/bppdf/bispap98.htm', 'https://www.bis.org/publ/bppdf/bispap97.htm', 'https://www.bis.org/publ/bppdf/bispap96.htm', 'https://www.bis.org/publ/bppdf/bispap95.htm', 'https://www.bis.org/publ/bppdf/bispap94.htm', 'https://www.bis.org/publ/bppdf/bispap93.htm', 'https://www.bis.org/publ/bppdf/bispap92.htm', 'https://www.bis.org/publ/bppdf/bispap91.htm', 'https://www.bis.org/publ/bppdf/bispap90.htm', 'https://www.bis.org/publ/othp27.htm', 'https://www.bis.org/publ/bppdf/bispap89.htm', 'https://www.bis.org/publ/bppdf/bispap88.htm']\n"
     ]
    }
   ],
   "source": [
    "print(e)"
   ]
  },
  {
   "cell_type": "code",
   "execution_count": 4,
   "metadata": {},
   "outputs": [
    {
     "name": "stdout",
     "output_type": "stream",
     "text": [
      "https://www.bis.org/publ/bppdf/bispap111.pdf\n",
      "\n",
      "\n",
      "https://www.bis.org/publ/bppdf/bispap110.pdf\n",
      "\n",
      "\n",
      "https://www.bis.org/publ/bppdf/bispap109.pdf\n",
      "\n",
      "\n",
      "https://www.bis.org/publ/bppdf/bispap108.pdf\n",
      "\n",
      "\n",
      "https://www.bis.org/publ/bppdf/bispap107.pdf\n",
      "\n",
      "\n",
      "https://www.bis.org/publ/bppdf/bispap106.pdf\n",
      "\n",
      "\n",
      "https://www.bis.org/publ/bppdf/bispap105.pdf\n",
      "\n",
      "\n",
      "https://www.bis.org/publ/bppdf/bispap104.pdf\n",
      "\n",
      "\n",
      "https://www.bis.org/publ/bppdf/bispap103.pdf\n",
      "\n",
      "\n",
      "https://www.bis.org/publ/bppdf/bispap102.pdf\n",
      "\n",
      "\n",
      "https://www.bis.org/publ/bppdf/bispap101.pdf\n",
      "\n",
      "\n",
      "https://www.bis.org/publ/bppdf/bispap100.pdf\n",
      "\n",
      "\n",
      "https://www.bis.org/publ/bppdf/bispap99.pdf\n",
      "\n",
      "\n",
      "https://www.bis.org/publ/bppdf/bispap98.pdf\n",
      "\n",
      "\n",
      "https://www.bis.org/publ/bppdf/bispap97.pdf\n",
      "\n",
      "\n",
      "https://www.bis.org/publ/bppdf/bispap96.pdf\n",
      "\n",
      "\n",
      "https://www.bis.org/publ/bppdf/bispap95.pdf\n",
      "\n",
      "\n",
      "https://www.bis.org/publ/bppdf/bispap94.pdf\n",
      "\n",
      "\n",
      "https://www.bis.org/publ/bppdf/bispap93.pdf\n",
      "\n",
      "\n",
      "https://www.bis.org/publ/bppdf/bispap92.pdf\n",
      "\n",
      "\n",
      "https://www.bis.org/publ/bppdf/bispap91.pdf\n",
      "\n",
      "\n",
      "https://www.bis.org/publ/bppdf/bispap90.pdf\n",
      "\n",
      "\n",
      "https://www.bis.org/publ/othp27.pdf\n",
      "\n",
      "\n",
      "https://www.bis.org/publ/bppdf/bispap89.pdf\n",
      "\n",
      "\n",
      "https://www.bis.org/publ/bppdf/bispap88.pdf\n",
      "\n",
      "\n"
     ]
    }
   ],
   "source": [
    "for i in e:\n",
    "\tdriver.get(i)\n",
    "# \tc=driver.find_elements_by_class_name(\"title-strip__heading\")\n",
    "# \tfor k in c:\n",
    "# \t\tprint(\"Title: \"+k.text)\n",
    "# \td=driver.find_elements_by_class_name(\"text-component\")\n",
    "# \tfor j in d:\n",
    "# \t\tprint(j.text)\n",
    "\talll=driver.find_elements_by_class_name('pdftitle_link')\n",
    "\tfor al in alll:\n",
    "\t\tprint(al.get_attribute(\"href\"))\n",
    "\t\tprint('\\n')\n"
   ]
  },
  {
   "cell_type": "code",
   "execution_count": null,
   "metadata": {},
   "outputs": [],
   "source": []
  }
 ],
 "metadata": {
  "kernelspec": {
   "display_name": "Python 3",
   "language": "python",
   "name": "python3"
  },
  "language_info": {
   "codemirror_mode": {
    "name": "ipython",
    "version": 3
   },
   "file_extension": ".py",
   "mimetype": "text/x-python",
   "name": "python",
   "nbconvert_exporter": "python",
   "pygments_lexer": "ipython3",
   "version": "3.7.3"
  }
 },
 "nbformat": 4,
 "nbformat_minor": 2
}
