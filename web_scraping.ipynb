{
  "nbformat": 4,
  "nbformat_minor": 0,
  "metadata": {
    "colab": {
      "name": "web_scraping.ipynb",
      "provenance": []
    },
    "kernelspec": {
      "name": "python3",
      "display_name": "Python 3"
    }
  },
  "cells": [
    {
      "cell_type": "code",
      "metadata": {
        "id": "25bZ1LSuOSn5",
        "colab_type": "code",
        "colab": {
          "base_uri": "https://localhost:8080/",
          "height": 54
        },
        "outputId": "275ee8d0-3129-4611-dbec-a4372a165398"
      },
      "source": [
        "import bs4\n",
        "from urllib.request import urlopen as uReq\n",
        "from bs4 import BeautifulSoup as soup\n",
        "my_url = \"http://www.newegg.com/Product/ProductList.aspx?Submit=ENE&N=-1&IsNodeId=1&Description=GTX&bop=And&Page=1&PageSize=36&order=BESTMATCH\"\n",
        "uClient = uReq(my_url)\n",
        "page_html =uClient.read()\n",
        "\n",
        "page_soup = soup(page_html,\"html.parser\")\n",
        "uClient.close()\n",
        "page_soup.p"
      ],
      "execution_count": 11,
      "outputs": [
        {
          "output_type": "execute_result",
          "data": {
            "text/plain": [
              "<p>Newegg.com - A great place to buy computers, computer parts, electronics, software, accessories, and DVDs online. With great prices, fast shipping, and top-rated customer service - Newegg shopping upgraded ™</p>"
            ]
          },
          "metadata": {
            "tags": []
          },
          "execution_count": 11
        }
      ]
    },
    {
      "cell_type": "code",
      "metadata": {
        "id": "fnp7KfNjh6h3",
        "colab_type": "code",
        "colab": {
          "base_uri": "https://localhost:8080/",
          "height": 275
        },
        "outputId": "91d5f16f-e2bf-4ed6-8ab8-8d4f394ea6dc"
      },
      "source": [
        "containers = page_soup.findAll(\"div\",{\"class\":\"item-container\"})\n",
        "contain = containers[0]\n",
        "contain"
      ],
      "execution_count": 26,
      "outputs": [
        {
          "output_type": "execute_result",
          "data": {
            "text/plain": [
              "<div class=\"item-container\" data-itemnumber=\"14-487-448\">\n",
              "<a class=\"item-img\" href=\"https://www.newegg.com/evga-geforce-gtx-1660-06g-p4-1067-kr/p/N82E16814487448?cm_sp=SearchSuccess-_-INFOCARD-_-GTX-_-14-487-448-_-1&amp;Description=GTX\">\n",
              "<img alt=\"EVGA GeForce GTX 1660 SC ULTRA GAMING, 06G-P4-1067-KR, 6GB GDDR5, Dual Fan, Metal Backplate\" src=\"//c1.neweggimages.com/ProductImageCompressAll300/14-487-448-V01.jpg\" title=\"EVGA GeForce GTX 1660 SC ULTRA GAMING, 06G-P4-1067-KR, 6GB GDDR5, Dual Fan, Metal Backplate\"/>\n",
              "</a>\n",
              "<div class=\"item-info\">\n",
              "<div class=\"item-branding\">\n",
              "<a class=\"item-rating\" href=\"https://www.newegg.com/evga-geforce-gtx-1660-06g-p4-1067-kr/p/N82E16814487448?cm_sp=SearchSuccess-_-INFOCARD-_-GTX-_-14-487-448-_-1&amp;Description=GTX&amp;IsFeedbackTab=true#scrollFullInfo\"><i class=\"rating rating-5\"></i><span class=\"item-rating-num\">(20)</span></a>\n",
              "</div>\n",
              "<a class=\"item-title\" href=\"https://www.newegg.com/evga-geforce-gtx-1660-06g-p4-1067-kr/p/N82E16814487448?cm_sp=SearchSuccess-_-INFOCARD-_-GTX-_-14-487-448-_-1&amp;Description=GTX\">\n",
              "                            \n",
              "                            EVGA GeForce GTX 1660 SC ULTRA GAMING, 06G-P4-1067-KR, 6GB GDDR5, Dual Fan, M...\n",
              "                        </a>\n",
              "</div>\n",
              "</div>"
            ]
          },
          "metadata": {
            "tags": []
          },
          "execution_count": 26
        }
      ]
    },
    {
      "cell_type": "code",
      "metadata": {
        "id": "ruec-38siJ2z",
        "colab_type": "code",
        "colab": {
          "base_uri": "https://localhost:8080/",
          "height": 54
        },
        "outputId": "c936cf70-f73d-40a6-a016-87008b727334"
      },
      "source": [
        "title_container = contain.findAll(\"a\",{\"class\":\"item-title\"})\n",
        "title_container[0].text"
      ],
      "execution_count": 45,
      "outputs": [
        {
          "output_type": "execute_result",
          "data": {
            "text/plain": [
              "'\\r\\n                            \\r\\n                            EVGA GeForce GTX 1660 SC ULTRA GAMING, 06G-P4-1067-KR, 6GB GDDR5, Dual Fan, M...\\r\\n                        '"
            ]
          },
          "metadata": {
            "tags": []
          },
          "execution_count": 45
        }
      ]
    },
    {
      "cell_type": "code",
      "metadata": {
        "id": "LFCDWVWviSkI",
        "colab_type": "code",
        "colab": {}
      },
      "source": [
        "out_filename = \"graphics_cards.csv\"\n",
        "headers = \"brand,product_name,shipping \\n\"\n",
        "f = open(out_filename, \"w\")\n",
        "f.write(headers)\n",
        "\n",
        "for container in containers:\n",
        "    make_rating_sp = container.div.select(\"a\")\n",
        "    brand = make_rating_sp[0].img[\"title\"].title()\n",
        "    product_name = container.div.select(\"a\")[2].text\n",
        "    shipping = container.findAll(\"li\", {\"class\": \"price-ship\"})[0].text.strip().replace(\"$\", \"\").replace(\" Shipping\", \"\")\n",
        "\n",
        "    \n",
        "    print(\"brand: \" + brand + \"\\n\")\n",
        "    print(\"product_name: \" + product_name + \"\\n\")\n",
        "    print(\"shipping: \" + shipping + \"\\n\")\n",
        "\n",
        "   \n",
        "    f.write(brand + \", \" + product_name.replace(\",\", \"|\") + \", \" + shipping + \"\\n\")\n",
        "\n",
        "f.close()  \n"
      ],
      "execution_count": 0,
      "outputs": []
    }
  ]
}