{
 "cells": [
  {
   "cell_type": "code",
   "execution_count": 5,
   "metadata": {},
   "outputs": [],
   "source": [
    "from selenium import webdriver\n",
    "driver = webdriver.Chrome(executable_path=r\"C:\\Users\\PARULEKAR\\Desktop\\web_scraping\\chromedriver_win32\\chromedriver.exe\")\n",
    "driver.get('https://home.kpmg/ke/en/home/insights.html')\n",
    "# article = driver.find_elements_by_class_name(\"grid-tiles col-xs-12 col-md-3\")\n",
    "# elems = article.findElements(By.tagName(\"a\"))\n",
    "# e=[]\n",
    "# a=[]\n",
    "\n",
    "# for elem in elems:\n",
    "# \te.append(elems.get_attribute(\"herf\"))"
   ]
  },
  {
   "cell_type": "code",
   "execution_count": 9,
   "metadata": {},
   "outputs": [
    {
     "name": "stdout",
     "output_type": "stream",
     "text": [
      "0\n"
     ]
    }
   ],
   "source": [
    "li = driver.find_elements_by_css_selector(\".grid-tiles col-xs-12 col-md-3\")\n",
    "# li = driver.find_elements_by_css_selector('div a')\n",
    "print(len(li))\n",
    "# for a in li:\n",
    "#      (print (a.get_attribute('href')))"
   ]
  },
  {
   "cell_type": "code",
   "execution_count": 58,
   "metadata": {},
   "outputs": [
    {
     "name": "stdout",
     "output_type": "stream",
     "text": [
      "['https://www.brookings.edu/research/leveraging-african-pension-funds-for-financing-infrastructure-development/']\n"
     ]
    }
   ],
   "source": []
  },
  {
   "cell_type": "code",
   "execution_count": null,
   "metadata": {},
   "outputs": [],
   "source": [
    "# driver.execute_script(\"window.scrollTo(0, document.body.scrollHeight);\")\n",
    "# driver.find_all(\"div\",class_=\"load-more-link load-more-wrapper\").click()"
   ]
  },
  {
   "cell_type": "code",
   "execution_count": 28,
   "metadata": {},
   "outputs": [],
   "source": [
    "# htmltext = driver.page_source\n",
    "# from bs4 import BeautifulSoup\n",
    "# soup = BeautifulSoup(htmltext, \"lxml\")\n",
    "# titles = []\n",
    "# for link in soup.find_all(\"h4\",class_=\"title\"):\n",
    "#     titles.append(link.text)\n",
    "    \n",
    "# dates = []\n",
    "# for link in soup.find_all(\"time\"):\n",
    "#     dates.append(link.text)\n",
    "    \n",
    "# for i in range(len(titles\n",
    "#     soup = BeautifulSoup(htmltext, \"lxml\")\n",
    "#     print(titles[i])\n",
    "#     print(dates[i])\n",
    "#     print(\"\\n\")\n"
   ]
  },
  {
   "cell_type": "code",
   "execution_count": null,
   "metadata": {},
   "outputs": [],
   "source": []
  },
  {
   "cell_type": "code",
   "execution_count": null,
   "metadata": {},
   "outputs": [],
   "source": []
  },
  {
   "cell_type": "code",
   "execution_count": null,
   "metadata": {},
   "outputs": [],
   "source": []
  }
 ],
 "metadata": {
  "kernelspec": {
   "display_name": "Python 3",
   "language": "python",
   "name": "python3"
  },
  "language_info": {
   "codemirror_mode": {
    "name": "ipython",
    "version": 3
   },
   "file_extension": ".py",
   "mimetype": "text/x-python",
   "name": "python",
   "nbconvert_exporter": "python",
   "pygments_lexer": "ipython3",
   "version": "3.7.3"
  }
 },
 "nbformat": 4,
 "nbformat_minor": 2
}
