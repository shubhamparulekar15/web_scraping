{
 "cells": [
  {
   "cell_type": "code",
   "execution_count": 9,
   "metadata": {},
   "outputs": [
    {
     "name": "stderr",
     "output_type": "stream",
     "text": [
      "C:\\Users\\PARULEKAR\\Anaconda3\\lib\\site-packages\\ipykernel_launcher.py:14: DeprecationWarning: use options instead of chrome_options\n",
      "  \n"
     ]
    },
    {
     "name": "stdout",
     "output_type": "stream",
     "text": [
      "\n",
      "Tax alerts\n",
      "\n",
      "\n",
      "24/04/20\n",
      "\n",
      "\n",
      "\n",
      "\n",
      "2020 Global Economic Crime and Fraud Survey - Kenya report\n",
      "\n",
      "\n",
      "04/03/20\n",
      "\n",
      "\n",
      "\n",
      "\n",
      "Companies to inspire Africa, one year on\n",
      "\n",
      "\n",
      "21/01/20\n",
      "\n",
      "\n",
      "\n",
      "\n",
      "Financial Focus 2019\n",
      "\n",
      "\n",
      "04/12/19\n",
      "\n",
      "\n",
      "\n",
      "\n",
      "Public Sector and Infrastructure Insight \n",
      "\n",
      "\n",
      "21/10/19\n",
      "\n",
      "\n",
      "\n",
      "\n",
      "There’s a better way to inspire more trust in banks and auditors\n",
      "\n",
      "\n",
      "28/08/19\n",
      "\n",
      "\n",
      "\n",
      "\n",
      "The journey and the rewards of Enterprise Risk Management\n",
      "\n",
      "\n",
      "28/08/19\n",
      "\n",
      "\n",
      "\n",
      "\n",
      "Marine insurance: Is Kenya’s insurance industry ready?\n",
      "\n",
      "\n",
      "28/08/19\n",
      "\n",
      "\n",
      "\n"
     ]
    }
   ],
   "source": [
    "from selenium import webdriver\n",
    "from selenium.webdriver.chrome.options import Options\n",
    "from selenium.webdriver.support.ui import WebDriverWait\n",
    "from selenium.webdriver.support import expected_conditions as EC\n",
    "from selenium.webdriver.common.by import By\n",
    "from selenium.common.exceptions import TimeoutException\n",
    "import time\n",
    "\n",
    "chrome_options = Options()\n",
    "chrome_options.add_argument(\"--start-maximized\")\n",
    "# chrome_options.add_argument(\"--incognito\")\n",
    "# chrome_options.add_argument(\"--window-size=1920x1080\")\n",
    "your_exec_path = r\"C:\\Users\\PARULEKAR\\Downloads\\chromedriver_win32\\chromedriver.exe\"\n",
    "driver = webdriver.Chrome(chrome_options=chrome_options, executable_path=your_exec_path)\n",
    "url = \"https://www.pwc.com/ke/en.html\"\n",
    "driver.get(url)\n",
    "# for i in range(100):\n",
    "#     driver.execute_script(\"window.scrollTo(0, document.body.scrollHeight);\")\n",
    "#     time.sleep(10)\n",
    "\n",
    "htmltext = driver.page_source\n",
    "from bs4 import BeautifulSoup\n",
    "soup = BeautifulSoup(htmltext, \"lxml\")\n",
    "titles = []\n",
    "for link in soup.find_all(\"h4\",class_=\"regular collection__item-heading\"):\n",
    "    titles.append(link.text)\n",
    "    \n",
    "dates = []\n",
    "for link in soup.find_all(\"p\",class_=\"collection__item-sub-heading\"):\n",
    "    dates.append(link.text)\n",
    "    \n",
    "for i in range(len(titles)):\n",
    "    print(titles[i])\n",
    "    print(dates[i])\n",
    "    print(\"\\n\")"
   ]
  },
  {
   "cell_type": "code",
   "execution_count": 40,
   "metadata": {},
   "outputs": [
    {
     "name": "stderr",
     "output_type": "stream",
     "text": [
      "C:\\Users\\PARULEKAR\\Anaconda3\\lib\\site-packages\\ipykernel_launcher.py:8: DeprecationWarning: use options instead of chrome_options\n",
      "  \n"
     ]
    }
   ],
   "source": [
    "from selenium import webdriver\n",
    "from selenium.webdriver.chrome.options import Options\n",
    "\n",
    "\n",
    "chrome_options = Options()\n",
    "chrome_options.add_argument(\"--start-maximized\")\n",
    "your_exec_path = r\"C:\\Users\\PARULEKAR\\Downloads\\chromedriver_win32\\chromedriver.exe\"\n",
    "driver = webdriver.Chrome(chrome_options=chrome_options, executable_path=your_exec_path)\n",
    "url = \"https://www.pwc.co.tz/publications.html\"\n",
    "driver.get(url)\n",
    "\n",
    "\n",
    "htmltext = driver.page_source\n",
    "from bs4 import BeautifulSoup\n",
    "soup = BeautifulSoup(htmltext, \"lxml\")\n",
    "titles = []\n",
    "for link in soup.find_all(\"h4\",class_=\"regular collection__item-heading\"):\n",
    "    titles.append(link.text)\n",
    "    \n",
    "dates = []\n",
    "for link in soup.find_all(\"p\",class_=\"collection__item-sub-heading\"):\n",
    "    dates.append(link.text)\n",
    "\n",
    "abc = []\n",
    "for link in soup.find_all(\"a\",class_=\"collection__item-link inheritColor ng-scope\"):\n",
    "    abc.append(link.get(\"href\"))\n",
    "    \n",
    "\n",
    "for i in range(len(titles)):\n",
    "    soup1 = BeautifulSoup(abc[i], \"lxml\")\n",
    "    download_link = []\n",
    "    for link in soup1.find_all(\"h2\",class_=\"cta-download__heading h3\"):\n",
    "        download_link.append(link.text)\n",
    "    print(titles[i]+dates[i])\n",
    "    print( download_link[i])\n",
    "    \n",
    "#     print(dates[i])"
   ]
  },
  {
   "cell_type": "code",
   "execution_count": 47,
   "metadata": {},
   "outputs": [
    {
     "name": "stdout",
     "output_type": "stream",
     "text": [
      "13\n"
     ]
    }
   ],
   "source": [
    "print(len(titles))"
   ]
  },
  {
   "cell_type": "code",
   "execution_count": 24,
   "metadata": {},
   "outputs": [
    {
     "ename": "TypeError",
     "evalue": "object of type 'Response' has no len()",
     "output_type": "error",
     "traceback": [
      "\u001b[1;31m---------------------------------------------------------------------------\u001b[0m",
      "\u001b[1;31mTypeError\u001b[0m                                 Traceback (most recent call last)",
      "\u001b[1;32m<ipython-input-24-477cd6aea29d>\u001b[0m in \u001b[0;36m<module>\u001b[1;34m\u001b[0m\n\u001b[0;32m      6\u001b[0m \u001b[1;32mfor\u001b[0m \u001b[0mx\u001b[0m \u001b[1;32min\u001b[0m \u001b[0mrange\u001b[0m\u001b[1;33m(\u001b[0m\u001b[0mlen\u001b[0m\u001b[1;33m(\u001b[0m\u001b[0mabc\u001b[0m\u001b[1;33m)\u001b[0m\u001b[1;33m)\u001b[0m\u001b[1;33m:\u001b[0m\u001b[1;33m\u001b[0m\u001b[1;33m\u001b[0m\u001b[0m\n\u001b[0;32m      7\u001b[0m     \u001b[0msources_art\u001b[0m \u001b[1;33m=\u001b[0m \u001b[0mrequests\u001b[0m\u001b[1;33m.\u001b[0m\u001b[0mget\u001b[0m\u001b[1;33m(\u001b[0m\u001b[0mabc\u001b[0m\u001b[1;33m[\u001b[0m\u001b[0mx\u001b[0m\u001b[1;33m]\u001b[0m\u001b[1;33m)\u001b[0m\u001b[1;33m\u001b[0m\u001b[1;33m\u001b[0m\u001b[0m\n\u001b[1;32m----> 8\u001b[1;33m     \u001b[0msoup1\u001b[0m \u001b[1;33m=\u001b[0m \u001b[0mBeautifulSoup\u001b[0m\u001b[1;33m(\u001b[0m\u001b[0msources_art\u001b[0m\u001b[1;33m,\u001b[0m \u001b[1;34m\"lxml\"\u001b[0m\u001b[1;33m)\u001b[0m\u001b[1;33m\u001b[0m\u001b[1;33m\u001b[0m\u001b[0m\n\u001b[0m\u001b[0;32m      9\u001b[0m     \u001b[0mdownload_link\u001b[0m \u001b[1;33m=\u001b[0m \u001b[1;33m[\u001b[0m\u001b[1;33m]\u001b[0m\u001b[1;33m\u001b[0m\u001b[1;33m\u001b[0m\u001b[0m\n\u001b[0;32m     10\u001b[0m     \u001b[1;32mfor\u001b[0m \u001b[0mlink\u001b[0m \u001b[1;32min\u001b[0m \u001b[0msoup1\u001b[0m\u001b[1;33m.\u001b[0m\u001b[0mfind_all\u001b[0m\u001b[1;33m(\u001b[0m\u001b[1;34m\"div\"\u001b[0m\u001b[1;33m,\u001b[0m\u001b[0mclass_\u001b[0m\u001b[1;33m=\u001b[0m\u001b[1;34m\"dpe-component-wrapper cta-download\"\u001b[0m\u001b[1;33m)\u001b[0m\u001b[1;33m:\u001b[0m\u001b[1;33m\u001b[0m\u001b[1;33m\u001b[0m\u001b[0m\n",
      "\u001b[1;32m~\\Anaconda3\\lib\\site-packages\\bs4\\__init__.py\u001b[0m in \u001b[0;36m__init__\u001b[1;34m(self, markup, features, builder, parse_only, from_encoding, exclude_encodings, **kwargs)\u001b[0m\n\u001b[0;32m    243\u001b[0m         \u001b[1;32mif\u001b[0m \u001b[0mhasattr\u001b[0m\u001b[1;33m(\u001b[0m\u001b[0mmarkup\u001b[0m\u001b[1;33m,\u001b[0m \u001b[1;34m'read'\u001b[0m\u001b[1;33m)\u001b[0m\u001b[1;33m:\u001b[0m        \u001b[1;31m# It's a file-type object.\u001b[0m\u001b[1;33m\u001b[0m\u001b[1;33m\u001b[0m\u001b[0m\n\u001b[0;32m    244\u001b[0m             \u001b[0mmarkup\u001b[0m \u001b[1;33m=\u001b[0m \u001b[0mmarkup\u001b[0m\u001b[1;33m.\u001b[0m\u001b[0mread\u001b[0m\u001b[1;33m(\u001b[0m\u001b[1;33m)\u001b[0m\u001b[1;33m\u001b[0m\u001b[1;33m\u001b[0m\u001b[0m\n\u001b[1;32m--> 245\u001b[1;33m         elif len(markup) <= 256 and (\n\u001b[0m\u001b[0;32m    246\u001b[0m                 \u001b[1;33m(\u001b[0m\u001b[0misinstance\u001b[0m\u001b[1;33m(\u001b[0m\u001b[0mmarkup\u001b[0m\u001b[1;33m,\u001b[0m \u001b[0mbytes\u001b[0m\u001b[1;33m)\u001b[0m \u001b[1;32mand\u001b[0m \u001b[1;32mnot\u001b[0m \u001b[1;34mb'<'\u001b[0m \u001b[1;32min\u001b[0m \u001b[0mmarkup\u001b[0m\u001b[1;33m)\u001b[0m\u001b[1;33m\u001b[0m\u001b[1;33m\u001b[0m\u001b[0m\n\u001b[0;32m    247\u001b[0m                 \u001b[1;32mor\u001b[0m \u001b[1;33m(\u001b[0m\u001b[0misinstance\u001b[0m\u001b[1;33m(\u001b[0m\u001b[0mmarkup\u001b[0m\u001b[1;33m,\u001b[0m \u001b[0mstr\u001b[0m\u001b[1;33m)\u001b[0m \u001b[1;32mand\u001b[0m \u001b[1;32mnot\u001b[0m \u001b[1;34m'<'\u001b[0m \u001b[1;32min\u001b[0m \u001b[0mmarkup\u001b[0m\u001b[1;33m)\u001b[0m\u001b[1;33m\u001b[0m\u001b[1;33m\u001b[0m\u001b[0m\n",
      "\u001b[1;31mTypeError\u001b[0m: object of type 'Response' has no len()"
     ]
    }
   ],
   "source": [
    "import requests\n",
    "abc = []\n",
    "for link in soup.find_all(\"a\",class_=\"collection__item-link inheritColor ng-scope\"):\n",
    "    abc.append(link.get(\"href\"))\n",
    "\n",
    "for x in range(len(abc)):\n",
    "    sources_art = requests.get(abc[x])\n",
    "    soup1 = BeautifulSoup(sources_art, \"lxml\")\n",
    "    download_link = []\n",
    "    for link in soup1.find_all(\"div\",class_=\"dpe-component-wrapper cta-download\"):\n",
    "        download_link.append(link.a.get(\"href\").text)\n",
    "#     for i in range(len(download_link)):\n",
    "#         print(download_link[i])\n",
    "\n",
    "for i in range(len(download_link)):\n",
    "        print(download_link[i])"
   ]
  },
  {
   "cell_type": "code",
   "execution_count": 55,
   "metadata": {},
   "outputs": [],
   "source": [
    "sources_art = requests.get(abc[i]).text\n",
    "soup1 = BeautifulSoup(r\"abl[]\", \"lxml\")\n",
    "download_link = []\n",
    "for link in soup1.find_all(\"h2\",class_=\"cta-download__heading h3\"):\n",
    "       download_link.append(link.text)\n",
    "    print(download_link[x])"
   ]
  },
  {
   "cell_type": "code",
   "execution_count": null,
   "metadata": {},
   "outputs": [],
   "source": []
  }
 ],
 "metadata": {
  "kernelspec": {
   "display_name": "Python 3",
   "language": "python",
   "name": "python3"
  },
  "language_info": {
   "codemirror_mode": {
    "name": "ipython",
    "version": 3
   },
   "file_extension": ".py",
   "mimetype": "text/x-python",
   "name": "python",
   "nbconvert_exporter": "python",
   "pygments_lexer": "ipython3",
   "version": "3.7.3"
  }
 },
 "nbformat": 4,
 "nbformat_minor": 2
}
